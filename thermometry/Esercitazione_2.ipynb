{
 "cells": [
  {
   "cell_type": "markdown",
   "id": "ccb63927-6f15-4384-bd7e-1f653540f5ce",
   "metadata": {},
   "source": [
    "# Notebook per la misura dell'equivalente in acqua\n",
    "\n",
    "\n",
    "Per prima cosa collegate la sonda Termometrica DS18B20 al pc tramite il cavo usb. Il sensore offre una rappresentazione a 12 bit della temperatura letta e comunica con Arduino tramite il protocollo 1-Wire. Il codice dello Sketch per Arduino Uno è disponibile nel repository Git della scuola. Per eseguire una cella di codice è sufficiente selezionarla con il mouse e premere CTRL+INVIO.\n",
    "\n",
    "<a href=\"https://datasheets.maximintegrated.com/en/ds/DS18B20.pdf\"> Qui </a> potete scaricare il datasheet del sensore utilizzato.\n",
    "\n",
    "\n"
   ]
  },
  {
   "cell_type": "code",
   "execution_count": null,
   "id": "a46d1296-8263-4fd2-bb80-7d72332a40bc",
   "metadata": {},
   "outputs": [],
   "source": [
    "import serial\n",
    "import serial.tools.list_ports\n",
    "import time"
   ]
  },
  {
   "cell_type": "markdown",
   "id": "10a2dea6-ecce-462f-983c-dcdd7d330768",
   "metadata": {},
   "source": [
    "Dopo aver caricato i moduli per la gestione della seriale possiamo enumerare le porte. Se non sono presenti altre schede Arduino, la porta seriale sarà quasi sicuramente /dev/ttyUSB0"
   ]
  },
  {
   "cell_type": "code",
   "execution_count": null,
   "id": "a39bd8cd-ea85-4fca-af63-9f543199a884",
   "metadata": {},
   "outputs": [],
   "source": [
    "com_ports=serial.tools.list_ports.comports()\n",
    "for p in com_ports:\n",
    "    print(p.device)"
   ]
  },
  {
   "cell_type": "markdown",
   "id": "ba7977ac-e70d-490f-acd0-63a79aa04053",
   "metadata": {},
   "source": [
    "Data la bassa frequenza di aggiornamento della  temperatura, l'interfaccia seriale della scheda Arduino è impostata a 9600bps. L'istruzione seguente apre la porta seriale ed inizia una comunicazione con Arduino a 9600bps, nel caso in cui lo sketch sia stato modificato sarà necessario aggioranre la frequenza di trasmissione dati."
   ]
  },
  {
   "cell_type": "code",
   "execution_count": null,
   "id": "6ace0afd-23f5-4bae-80a2-de985f38d9f8",
   "metadata": {},
   "outputs": [],
   "source": [
    "arduino = serial.Serial('/dev/ttyUSB0', baudrate=9600, timeout=1)"
   ]
  },
  {
   "cell_type": "markdown",
   "id": "10ed33ad-1074-4543-be70-730ac0bb4a21",
   "metadata": {},
   "source": [
    "Prima di iniziare l'acquisizione dati, controlliamo che la scheda sia attiva e risponda alle nostre sollecitazioni. La funzione Handshake, invia il carattere h ed aspetta una risposta da Arduino. Se la connessione è attiva e funzionante, dovreste ottenere come risposta il carattere R"
   ]
  },
  {
   "cell_type": "code",
   "execution_count": null,
   "id": "a97151b9-2f50-4920-bf8b-013571d61fb4",
   "metadata": {},
   "outputs": [],
   "source": [
    "def handshake_arduino(arduino, sleep_time=1):\n",
    "    time.sleep(sleep_time);\n",
    "    timeout = arduino.timeout\n",
    "    arduino.timeout = 2\n",
    "    arduino.write('h'.encode())\n",
    "    while (arduino.in_waiting < 0):\n",
    "        pass\n",
    "    response= arduino.read_until()\n",
    "    print(response.decode().strip())\n",
    "    arduino.timeout = timeout\n",
    "\n",
    "\n",
    "\n",
    "\n",
    "handshake_arduino(arduino)"
   ]
  },
  {
   "cell_type": "markdown",
   "id": "e929d173-d36d-4c7d-bcc1-18bf4b9beb04",
   "metadata": {},
   "source": [
    "La funzione parse_raw_line, legge una linea di input fornita da Arduino, suddivide il testo in due dati, e converte il tempo da millisecondi a secondi"
   ]
  },
  {
   "cell_type": "code",
   "execution_count": null,
   "id": "fc606302-c657-4b5e-80f5-d60c1f83a5bc",
   "metadata": {},
   "outputs": [],
   "source": [
    "def parse_raw_line(raw_line):\n",
    "    raw_line = raw_line.decode()\n",
    "    if raw_line[-1] != \"\\n\":\n",
    "        raise ValueError(\n",
    "            \"Il messaggio inviato da Arduino deve terminare con il carattere nuova linea.\"\n",
    "        )\n",
    "\n",
    "    time,temp= raw_line.rstrip().split(\",\");\n",
    "\n",
    "    return float(time)/1000.,float(temp)"
   ]
  },
  {
   "cell_type": "markdown",
   "id": "899c1570-5992-4536-9241-9b7d8cccf98e",
   "metadata": {},
   "source": [
    "In questa attività le liste che conterranno i valori devono essere passate come parametro alla funzione daq_get_values"
   ]
  },
  {
   "cell_type": "code",
   "execution_count": null,
   "id": "a0dcd87b-a5a5-49dc-ae54-ecde11165d99",
   "metadata": {},
   "outputs": [],
   "source": [
    "def daq_get_values(times,temps,time_base=0):\n",
    "    # invio il codice per la lettura di una temperatura\n",
    "    arduino.write('t'.encode())\n",
    "    \n",
    "    while arduino.in_waiting < 0:\n",
    "        pass\n",
    "\n",
    "    # Leggo i dati inviati tramite seriale a seguito della richiesta di lettura\n",
    "    raw = arduino.read_until()\n",
    "      \n",
    "    # Elaboro i dati forniti, traslando il tempo iniziale \n",
    "    try:\n",
    "        time,temp=parse_raw_line(raw)\n",
    "        times.append(time-time_base)\n",
    "        temps.append(temp)\n",
    "        \n",
    "    except:\n",
    "        pass"
   ]
  },
  {
   "cell_type": "markdown",
   "id": "db72fdd8-dc9d-4c2c-8bc7-7da87ff10773",
   "metadata": {},
   "source": [
    "Controllo il corretto funzionamento del sistema richiedendo la lettura di una temperatura, prima di iniziare una raccolta dati prova sempre a verificare che la temperatura venga letta correttamente"
   ]
  },
  {
   "cell_type": "code",
   "execution_count": null,
   "id": "02d2ed97-da9b-4914-aa45-ffe9bfcb41f6",
   "metadata": {},
   "outputs": [],
   "source": [
    "times1 = []\n",
    "temps1= []\n",
    "\n",
    "daq_get_values(times1,temps1)\n",
    "print(times1)\n",
    "print(temps1)\n"
   ]
  },
  {
   "cell_type": "markdown",
   "id": "3d831b8f-89a1-4f13-ac1a-610f27899c5e",
   "metadata": {},
   "source": [
    "Carico Matplotlib per la rappresentazione dei dati "
   ]
  },
  {
   "cell_type": "code",
   "execution_count": null,
   "id": "212c85c8-ffa2-461d-81ad-da0f4e2fac75",
   "metadata": {},
   "outputs": [],
   "source": [
    "import matplotlib.pyplot as plt \n",
    "\n",
    "%matplotlib widget\n",
    "plt.rcParams['animation.html']='jshtml'\n"
   ]
  },
  {
   "cell_type": "markdown",
   "id": "cd069e83-9447-4185-8865-af6583fd9156",
   "metadata": {},
   "source": [
    "### Funzione per la rappresentazione grafica dei dati\n",
    "\n",
    "\n",
    "La funzione new_figure deve essere invocata ogni volta in cui viene creata una nuova figura in cui i dati devono essere rappresentanti"
   ]
  },
  {
   "cell_type": "code",
   "execution_count": null,
   "id": "a56c35d0-1d70-46d8-bd44-7339235d1b49",
   "metadata": {},
   "outputs": [],
   "source": [
    "def new_figure():\n",
    "    fig=plt.figure(figsize=[10,10])\n",
    "    plt.grid()\n",
    "    plt.xlabel('Tempo (s)')\n",
    "    plt.ylabel('Temperatura (°C)')\n",
    "    #plt.rcParams['figure.dpi'] = 150\n",
    "    return fig\n"
   ]
  },
  {
   "cell_type": "code",
   "execution_count": null,
   "id": "6848d0d8-db75-40fb-b22e-8cc582348aa6",
   "metadata": {},
   "outputs": [],
   "source": [
    "#La funzione getData raccoglie dati ogni delta_t secondi per un tempo totale pari a run_time\n",
    "#Ricorda di passare alla funzione la figura in cui vuoi che vengano disegnati i dati\n",
    "\n",
    "def getData(run_time,delta_t,current_figure):\n",
    "        \n",
    "        current_times=[]\n",
    "        current_temps=[]\n",
    "        \n",
    "        arduino.write('n'.encode())\n",
    "        time.sleep(1);\n",
    "        arduino.write('r'.encode())\n",
    "        time.sleep(1);\n",
    "        #pulisco il buffer seriale\n",
    "        arduino.read_all()\n",
    "        daq_get_values(current_times,current_temps)\n",
    "        run=True\n",
    "             \n",
    "        while run:\n",
    "            \n",
    "            daq_get_values(current_times,current_temps)\n",
    "            plt.plot(current_times,current_temps,'-o',color='gray',markerfacecolor='red')\n",
    "            current_figure.canvas.draw()\n",
    "            time.sleep(delta_t)\n",
    "            if current_times[-1]-current_times[0]>run_time:\n",
    "                run=False\n",
    "        return current_times,current_temps\n",
    "\n"
   ]
  },
  {
   "cell_type": "code",
   "execution_count": null,
   "id": "d4babc7e-2034-4272-84a2-b5a83df550ab",
   "metadata": {},
   "outputs": [],
   "source": [
    "from sklearn.linear_model import LinearRegression\n",
    "import numpy as np"
   ]
  },
  {
   "cell_type": "code",
   "execution_count": null,
   "id": "31d68e32-e9ff-499d-b29b-4383da620270",
   "metadata": {},
   "outputs": [],
   "source": [
    "def get_reg_coeff(time_data,temp_data,interval1,interval2):\n",
    "\n",
    "    #create  slice objects\n",
    "    regd1=slice(interval1[0],interval1[1])\n",
    "    regd2=slice(interval2[0],interval2[1])\n",
    "\n",
    "    #create matplotlib figure\n",
    "    regfigure,regax= plt.subplots(figsize=[10,10])\n",
    "    regscatter, = regax.plot([], [], 'bo', label='Temperatura vs tempo')\n",
    "    plt.grid()\n",
    "    plt.xlabel('Tempo (s)')\n",
    "    plt.ylabel('Temperatura (°C)')\n",
    "\n",
    "    #setup reg lines and plot intervals\n",
    "    regline1, = regax.plot([], [], 'r', label='Regressione lineare riscaldamento')\n",
    "    regline2, = regax.plot([], [], 'g', label='Regressione lineare raffreddamento')\n",
    "    regax.set_xlim(min(time_data)-1, max(time_data)+1)\n",
    "    regax.set_ylim(min(temp_data)-1,max(temp_data)+1)\n",
    "    regax.legend()\n",
    "\n",
    "\n",
    "    #do the linear reg\n",
    "    reg1 = LinearRegression()\n",
    "    reg2 = LinearRegression()\n",
    "    x_train1 = np.array(time_data[regd1]).reshape(-1, 1)\n",
    "    y_train1 = np.array(temp_data[regd1]).reshape(-1, 1)\n",
    "    reg1.fit(x_train1,y_train1)\n",
    "    x_train2 = np.array(time_data[regd2]).reshape(-1, 1)\n",
    "    y_train2 = np.array(temp_data[regd2]).reshape(-1, 1)\n",
    "    reg2.fit(x_train2,y_train2)\n",
    "\n",
    "    #collect results\n",
    "    lines_data=[[reg1.coef_[0][0],reg1.intercept_[0]],[reg2.coef_[0][0],reg2.intercept_[0]]]\n",
    "\n",
    "    #plot data\n",
    "    regscatter.set_data(time_data,temp_data)\n",
    "    regline1.set_data(time_data, reg1.predict(np.array([entry for entry in time_data]).reshape(-1, 1)))\n",
    "    regline2.set_data(time_data, reg2.predict(np.array([entry for entry in time_data]).reshape(-1, 1)))\n",
    "    return lines_data\n"
   ]
  },
  {
   "cell_type": "markdown",
   "id": "096513e1-46cf-4663-948b-d4643327c134",
   "metadata": {},
   "source": [
    "## Passo 0\n",
    "Determinazione della temperatura di equilibrio del calorimetro. Immergete la sonda termometrica all'interno del calorimetro ed eseguite la funzione getData per 30s raccogliendo dati ogni 3s, dovrai passare alla funzione la figura figura_passo_0 creata prima dell'inizio dell'acqusizione dati. Ricorda di sostituire gli opportuni valori al posto delle espressioni <...>"
   ]
  },
  {
   "cell_type": "code",
   "execution_count": null,
   "id": "bbb13e7a-b705-4af0-b42f-36fe1b1a4620",
   "metadata": {},
   "outputs": [],
   "source": [
    "figura_passo_0=new_figure()"
   ]
  },
  {
   "cell_type": "code",
   "execution_count": null,
   "id": "b40d0ba4-7614-4e46-b550-646e5431cbc0",
   "metadata": {},
   "outputs": [],
   "source": [
    "tempi_passo_0,temperature_passo_0=getData(<intervallo>,<Delta t> ,figura_passo_0)"
   ]
  },
  {
   "cell_type": "markdown",
   "id": "a85f8e72-3ab7-436a-96fb-bc71b80bad60",
   "metadata": {},
   "source": [
    "### Passo 1\n",
    "\n",
    "Determinazione della temperatura dell'acqua calda. Cerca di essere quanto più veloce possibile in questo passaggio. Dovrai misurare la temperatura dell'acqua versata nel beker da 250ml. Imposta una raccolta dati di 15s con una lettura ogni secondo."
   ]
  },
  {
   "cell_type": "code",
   "execution_count": null,
   "id": "7bcbd9bf-156b-42b3-b1ae-4afe5f18a4ac",
   "metadata": {},
   "outputs": [],
   "source": [
    "figura_passo_1=new_figure()"
   ]
  },
  {
   "cell_type": "code",
   "execution_count": null,
   "id": "2eb82cc4-1603-4bfb-b1d8-954cbb0a85ab",
   "metadata": {},
   "outputs": [],
   "source": [
    "tempi_passo_1,temperature_passo_1=getData(<intervallo>,<Delta t>,figura_passo_1)"
   ]
  },
  {
   "cell_type": "markdown",
   "id": "339dcb70-5b49-470c-8f61-ec50d3bc7ced",
   "metadata": {},
   "source": [
    "### Passo 2\n",
    "\n",
    "Misura della curva di riscaldamento e raffreddamento dell'acqua. Versa velocemente l'acqua calda nel calorimetro ed inserisci al suo interno la sonda termometrica. Ricorda di fare in modo che questa sia completamente immersa in acqua. Usa delicatamente l'agitatore. Effettua una raccolta dati della durante di 300s effettuando una lettura ogni secondo"
   ]
  },
  {
   "cell_type": "code",
   "execution_count": null,
   "id": "efe798f4-e352-480b-adab-825664efa039",
   "metadata": {},
   "outputs": [],
   "source": [
    "figura_passo_2=new_figure()"
   ]
  },
  {
   "cell_type": "code",
   "execution_count": null,
   "id": "5b8ed5c7-dd05-4db9-8acb-f1f851b7a1b0",
   "metadata": {},
   "outputs": [],
   "source": [
    "tempi_passo_2,temperature_passo_2=getData(<intervallo>,<Delta t> ,figura_passo_2)"
   ]
  },
  {
   "cell_type": "markdown",
   "id": "644dae40-fae1-4153-bac9-8db6c35cf9dc",
   "metadata": {},
   "source": [
    "## Analisi dei dati\n",
    "\n",
    "Dopo aver acquisito i dati delle curve di raffreddamento e riscaldamento li dovrai analizzare per ricavare la temperatura di equilibrio del sistema. Per prima cosa esegui le due celle sottostanti"
   ]
  },
  {
   "cell_type": "code",
   "execution_count": null,
   "id": "3da4701a-4abd-4ff6-a1b7-72c19f574144",
   "metadata": {},
   "outputs": [],
   "source": [
    "tempi_passo_2"
   ]
  },
  {
   "cell_type": "code",
   "execution_count": null,
   "id": "396fdfb2-31a0-43fd-872a-2bb20c5f0f73",
   "metadata": {},
   "outputs": [],
   "source": [
    "temperature_passo_2"
   ]
  },
  {
   "cell_type": "markdown",
   "id": "635b880f-bac8-44f5-8772-b095cb6bb1cb",
   "metadata": {},
   "source": [
    "### Individuazione degli intervalli di interesse\n",
    "Dovrai ora individuare gli intervalli di interesse della misura, ovvero le fasi di crescita e decrescita della temperatura. Segna quali sono gli estremi di questi intervalli e usali come imput per la funzione get_reg_coeff. \n",
    "Questa funzione vorrà in input i valori registrati in tempi_passo_2 e temperature_passo_2, oltre agli intervalli che esprimerai come [indice_iniziale, indice_finale]. \n",
    "\n",
    "Un esempio di chiamata può essere get_reg_coeff(tempi_passo_2,temperature_passo_2,[100,200],[230,280])\n",
    "\n",
    "Ricorda di modificare gli estremi degli intervalli in funzione dei dati acquisiti!!!"
   ]
  },
  {
   "cell_type": "code",
   "execution_count": null,
   "id": "84c5a5a4-d209-4b81-97e9-504e4faba1fa",
   "metadata": {},
   "outputs": [],
   "source": [
    "get_reg_coeff(tempi_passo_2,temperature_passo_2,[2,5],[6,10])"
   ]
  },
  {
   "cell_type": "code",
   "execution_count": null,
   "id": "0fede7a3-b3aa-4358-9695-6e9a2ff999d1",
   "metadata": {},
   "outputs": [],
   "source": []
  }
 ],
 "metadata": {
  "kernelspec": {
   "display_name": "Python 3 (ipykernel)",
   "language": "python",
   "name": "python3"
  },
  "language_info": {
   "codemirror_mode": {
    "name": "ipython",
    "version": 3
   },
   "file_extension": ".py",
   "mimetype": "text/x-python",
   "name": "python",
   "nbconvert_exporter": "python",
   "pygments_lexer": "ipython3",
   "version": "3.10.4"
  },
  "toc-showtags": true
 },
 "nbformat": 4,
 "nbformat_minor": 5
}
