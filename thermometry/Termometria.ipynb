{
 "cells": [
  {
   "cell_type": "markdown",
   "id": "ccb63927-6f15-4384-bd7e-1f653540f5ce",
   "metadata": {},
   "source": [
    "# Notebook per la gestione dei sensori di temperatura\n",
    "\n",
    "Per prima cosa collegate la sonda Termometrica DS18B20 al pc tramite il cavo usb. Il sensore offre una rappresentazione a 12 bit della temperatura letta e comunica con Arduino tramite il protocollo 1-Wire. Il codice dello Sketch per Arduino Uno è disponibile nel repository Git della scuola. Per eseguire una cella di codice è sufficiente selezionarla con il mouse e premere CTRL+INVIO.\n",
    "\n",
    "<a href=\"https://datasheets.maximintegrated.com/en/ds/DS18B20.pdf\"> Qui </a> potete scaricare il datasheet del sensore utilizzato.\n",
    "\n",
    "\n"
   ]
  },
  {
   "cell_type": "code",
   "execution_count": 1,
   "id": "a46d1296-8263-4fd2-bb80-7d72332a40bc",
   "metadata": {},
   "outputs": [],
   "source": [
    "import serial\n",
    "import serial.tools.list_ports\n",
    "import time"
   ]
  },
  {
   "cell_type": "markdown",
   "id": "10a2dea6-ecce-462f-983c-dcdd7d330768",
   "metadata": {},
   "source": [
    "Dopo aver caricato i moduli per la gestione della seriale possiamo enumerare le porte. Se non sono presenti altre schede Arduino, la porta seriale sarà quasi sicuramente /dev/ttyUSB0"
   ]
  },
  {
   "cell_type": "code",
   "execution_count": 5,
   "id": "a39bd8cd-ea85-4fca-af63-9f543199a884",
   "metadata": {},
   "outputs": [
    {
     "name": "stdout",
     "output_type": "stream",
     "text": [
      "/dev/ttyUSB0\n"
     ]
    }
   ],
   "source": [
    "com_ports=serial.tools.list_ports.comports()\n",
    "for p in com_ports:\n",
    "    print(p.device)"
   ]
  },
  {
   "cell_type": "markdown",
   "id": "ba7977ac-e70d-490f-acd0-63a79aa04053",
   "metadata": {},
   "source": [
    "Data la bassa frequenza di aggiornamento della  temperatura, l'interfaccia seriale della scheda Arduino è impostata a 9600bps. L'istruzione seguente apre la porta seriale ed inizia una comunicazione con Arduino a 9600bps, nel caso in cui lo sketch sia stato modificato sarà necessario aggioranre la frequenza di trasmissione dati."
   ]
  },
  {
   "cell_type": "code",
   "execution_count": 2,
   "id": "6ace0afd-23f5-4bae-80a2-de985f38d9f8",
   "metadata": {},
   "outputs": [],
   "source": [
    "arduino = serial.Serial('/dev/ttyUSB0', baudrate=9600, timeout=1)"
   ]
  },
  {
   "cell_type": "markdown",
   "id": "10ed33ad-1074-4543-be70-730ac0bb4a21",
   "metadata": {},
   "source": [
    "Prima di iniziare l'acquisizione dati, controlliamo che la scheda si attiva e risponda alle nostre sollecitazioni. La funzione Handshake, invia il carattere h ed aspetta una risposta da Arduino. Se la connessione è attiva e funzionante, dovreste ottenere come risposta il carattere R"
   ]
  },
  {
   "cell_type": "code",
   "execution_count": 3,
   "id": "a97151b9-2f50-4920-bf8b-013571d61fb4",
   "metadata": {},
   "outputs": [
    {
     "name": "stdout",
     "output_type": "stream",
     "text": [
      "R\n"
     ]
    }
   ],
   "source": [
    "def handshake_arduino(arduino, sleep_time=1):\n",
    "    time.sleep(sleep_time);\n",
    "    timeout = arduino.timeout\n",
    "    arduino.timeout = 2\n",
    "    arduino.write('h'.encode())\n",
    "    while (arduino.in_waiting < 0):\n",
    "        pass\n",
    "    response= arduino.read_until()\n",
    "    print(response.decode().strip())\n",
    "    arduino.timeout = timeout\n",
    "\n",
    "\n",
    "\n",
    "\n",
    "handshake_arduino(arduino)"
   ]
  },
  {
   "cell_type": "markdown",
   "id": "e929d173-d36d-4c7d-bcc1-18bf4b9beb04",
   "metadata": {},
   "source": [
    "La funzione parse_raw_line, legge una linea di input fornita da Arduino, suddivide il testo in due dati, e converte il tempo da millisecondi a secondi"
   ]
  },
  {
   "cell_type": "code",
   "execution_count": 4,
   "id": "fc606302-c657-4b5e-80f5-d60c1f83a5bc",
   "metadata": {},
   "outputs": [],
   "source": [
    "def parse_raw_line(raw_line):\n",
    "    raw_line = raw_line.decode()\n",
    "    if raw_line[-1] != \"\\n\":\n",
    "        raise ValueError(\n",
    "            \"Il messaggio inviato da Arduino deve terminare con il carattere nuova linea.\"\n",
    "        )\n",
    "\n",
    "    time,temp= raw_line.rstrip().split(\",\");\n",
    "\n",
    "    return float(time)/1000.,float(temp)"
   ]
  },
  {
   "cell_type": "markdown",
   "id": "899c1570-5992-4536-9241-9b7d8cccf98e",
   "metadata": {},
   "source": [
    "Definisco due liste times=[] e temps=[] che conterranno i dati letti dall'interfaccia di Arduino"
   ]
  },
  {
   "cell_type": "code",
   "execution_count": 5,
   "id": "a0dcd87b-a5a5-49dc-ae54-ecde11165d99",
   "metadata": {},
   "outputs": [],
   "source": [
    "times = []\n",
    "temps= []\n",
    "def daq_get_values(time_base=0):\n",
    "    # invio il codice per la lettura di una temperatura\n",
    "    arduino.write('t'.encode())\n",
    "    \n",
    "    while arduino.in_waiting < 0:\n",
    "        pass\n",
    "\n",
    "    # Leggo i dati inviati tramite seriale a seguito della richiesta di lettura\n",
    "    raw = arduino.read_until()\n",
    "      \n",
    "    # Elaboro i dati forniti, traslando il tempo iniziale \n",
    "    try:\n",
    "        time,temp=parse_raw_line(raw)\n",
    "        times.append(time-time_base)\n",
    "        temps.append(temp)\n",
    "        \n",
    "    except:\n",
    "        pass"
   ]
  },
  {
   "cell_type": "markdown",
   "id": "db72fdd8-dc9d-4c2c-8bc7-7da87ff10773",
   "metadata": {},
   "source": [
    "Controllo il corretto funzionamento del sistema richiedendo la lettura di una temperatura"
   ]
  },
  {
   "cell_type": "code",
   "execution_count": 6,
   "id": "02d2ed97-da9b-4914-aa45-ffe9bfcb41f6",
   "metadata": {},
   "outputs": [
    {
     "name": "stdout",
     "output_type": "stream",
     "text": [
      "[6.437]\n",
      "[22.0]\n"
     ]
    }
   ],
   "source": [
    "times = []\n",
    "temps= []\n",
    "\n",
    "daq_get_values()\n",
    "print(times)\n",
    "print(temps)\n"
   ]
  },
  {
   "cell_type": "markdown",
   "id": "3d831b8f-89a1-4f13-ac1a-610f27899c5e",
   "metadata": {},
   "source": [
    "Carico Matplotlib per la rappresentazione dei dati "
   ]
  },
  {
   "cell_type": "code",
   "execution_count": 7,
   "id": "212c85c8-ffa2-461d-81ad-da0f4e2fac75",
   "metadata": {},
   "outputs": [],
   "source": [
    "import matplotlib.pyplot as plt \n",
    "\n",
    "%matplotlib widget\n",
    "plt.rcParams['animation.html']='jshtml'\n"
   ]
  },
  {
   "cell_type": "markdown",
   "id": "527602a1-a797-4a9d-9588-1fb3d58aa819",
   "metadata": {},
   "source": [
    "La funzione getData accetta come input il numero di secondi per cui dovrà durare la cattura dati, durante la lettura dell'interfaccia, aggiorno il grafico dell'andamento"
   ]
  },
  {
   "cell_type": "code",
   "execution_count": 8,
   "id": "25a20016-18c8-4b0e-b61e-bd31fab024af",
   "metadata": {},
   "outputs": [],
   "source": [
    "def getData(run_time):\n",
    "        \n",
    "        arduino.write('n'.encode())\n",
    "        time.sleep(1);\n",
    "        arduino.write('r'.encode())\n",
    "        time.sleep(1);\n",
    "        #pulisco il buffer seriale\n",
    "        arduino.read_all()\n",
    "        daq_get_values()\n",
    "        run=True\n",
    "             \n",
    "        while run:\n",
    "            \n",
    "            daq_get_values()\n",
    "            plt.plot(times,temps,'-')\n",
    "            fig.canvas.draw()\n",
    "            time.sleep(0.5)\n",
    "            if times[-1]-times[0]>run_time:\n",
    "                run=False\n",
    "                print(times)\n",
    "\n"
   ]
  },
  {
   "cell_type": "code",
   "execution_count": 9,
   "id": "a56c35d0-1d70-46d8-bd44-7339235d1b49",
   "metadata": {},
   "outputs": [
    {
     "data": {
      "application/vnd.jupyter.widget-view+json": {
       "model_id": "c64c20a1b9664b24935172c3ded15c5c",
       "version_major": 2,
       "version_minor": 0
      },
      "image/png": "[encoded data removed]",
      "text/html": [
       "\n",
       "            <div style=\"display: inline-block;\">\n",
       "                <div class=\"jupyter-widgets widget-label\" style=\"text-align: center;\">\n",
       "                    Figure\n",
       "                </div>\n",
       "                <img src='data:image/png;base64,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' width=640.0/>\n",
       "            </div>\n",
       "        "
      ],
      "text/plain": [
       "Canvas(toolbar=Toolbar(toolitems=[('Home', 'Reset original view', 'home', 'home'), ('Back', 'Back to previous …"
      ]
     },
     "metadata": {},
     "output_type": "display_data"
    }
   ],
   "source": [
    "fig=plt.figure()"
   ]
  },
  {
   "cell_type": "code",
   "execution_count": 10,
   "id": "6b6e0a2a-33ee-4b2f-a4df-435da7d31824",
   "metadata": {},
   "outputs": [
    {
     "name": "stdout",
     "output_type": "stream",
     "text": [
      "[1.281, 1.949, 3.258, 3.925, 4.593, 5.261, 5.928, 6.596, 7.263, 7.932, 8.6, 9.267, 9.935, 10.603, 11.27, 11.938]\n"
     ]
    }
   ],
   "source": [
    "times = []\n",
    "temps= []\n",
    "getData(10)"
   ]
  },
  {
   "cell_type": "code",
   "execution_count": null,
   "id": "8e037fd5-4929-4c67-87d9-482e7f0f24bb",
   "metadata": {},
   "outputs": [],
   "source": []
  }
 ],
 "metadata": {
  "kernelspec": {
   "display_name": "Python 3 (ipykernel)",
   "language": "python",
   "name": "python3"
  },
  "language_info": {
   "codemirror_mode": {
    "name": "ipython",
    "version": 3
   },
   "file_extension": ".py",
   "mimetype": "text/x-python",
   "name": "python",
   "nbconvert_exporter": "python",
   "pygments_lexer": "ipython3",
   "version": "3.10.4"
  },
  "toc-showtags": true
 },
 "nbformat": 4,
 "nbformat_minor": 5
}
