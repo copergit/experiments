{
 "cells": [
  {
   "cell_type": "markdown",
   "id": "2d60baee-38f1-4097-877d-0cd05d30f975",
   "metadata": {},
   "source": [
    "# Il problema dei tre corpi\n",
    "\n",
    "Iniziamo con un po' di teoria"
   ]
  },
  {
   "cell_type": "markdown",
   "id": "97c48213-1ad3-4b75-897f-4660dea93899",
   "metadata": {},
   "source": [
    "Possiamo usare la legge di gravitazione universale di Newton per determinare il comportamento di $N$ corpi, sferici ed omogenei, interagenti?\n",
    " \n",
    " Per prima cosa notiamo come sia necessario conoscere posizione e velocità del sistema degli $N$ corpi ad un certo tempo. L'evoluzione del sistema è governata dalla seconda legge della dinamica:\n",
    "\n",
    "\\begin{equation}\\label{eq:newton1}\n",
    " m\\vec{a}=-G\\frac{m_1m_2}{r^2}\\hat{r}\n",
    "\\end{equation}\n",
    "La [\\ref{eq:newton1}] ci permette unicamente di calcolare le accelerazioni cui sono soggetti i corpi ma non ci dice nulla, direttamente, sulle loro velocità e posizioni. Appare evidente che se i corpi sono  inizialmente fermi il comportamento del sistema sarà, nel tempo, radicalmente diverso rispetto al caso in cui i corpi avessero delle velocità iniziali non nulle. Se il sistema è composto unicamente da due corpi la forza agente su ognuno di questi sarà data dalla [\\ref{eq:newton1}], se però i corpi sono in numero $N>2$ la forza su ognuno sarà la somma di tutte le interazioni con gli altri $N-1$ corpi da cui è costituito il sistema. Nel caso di tre corpi potrei scrivere:\n",
    "\\begin{equation}\n",
    " F_1=-G\\frac{m_1m_2}{r_{12}^2}\\hat{r}_{12} -G\\frac{m_1m_3}{r_{13}^2}\\hat{r}_{13}\n",
    "\\end{equation}\n",
    "in generale potremmo scrivere:\n",
    "\\begin{equation}\\label{eq:newton2}\n",
    " F_i=\\sum_{j=1\\ j\\neq i}^N -G\\frac{m_im_j}{r_{ij}^2}\\hat{r}_{ij}\n",
    "\\end{equation}\n",
    "Iniziamo trattando un sistema di due soli corpi, di cui esiste una soluzione analitica esatta, per meglio capire lo strumento matematico che ci permetterà di determinare (con precisione arbitraria) le orbite delle componenti del sistema. Per prima cosa ricordiamo alcune definizioni cinematiche. Indicheremo con $\\vec{r}_i$ il vettore posizione di un corpo, in questo nostro primo sistema giocattolo i corpi saranno individuati dai vettori:\n",
    "\\begin{equation}\n",
    " \\vec{r}_1=(x_1,y_1)\\qquad \\vec{r}_2=(x_2,y_2)\n",
    "\\end{equation}\n",
    "definiti rispetto ad un opportuno sistema di riferimento, che come vedremo, sarà utile identificare con quello del centro di massa.\n",
    "La posizione di un corpo al tempo $t+\\Delta t$ sarà espressa come\n",
    "\\begin{equation}\n",
    " \\vec{r}(t+\\Delta t)=\\vec{r}(t)+\\vec{v}(t^*)\\Delta t \n",
    "\\end{equation}\n",
    "dove si avrà $t^*\\in [t,t+\\Delta t]$\n",
    "mentre la velocità al tempo $t^*$ sarà espressa come:\n",
    "\\begin{equation}\n",
    " \\vec{v}(t^*)=\\vec{v}(t^*-\\Delta t)+\\vec{a}(t)\\Delta t\n",
    "\\end{equation}\n",
    "si può dimostrare che prendendo per $t*$ costantemente il valore $t+\\Delta t/2$  questo sistema di approssimazione è in grado di simulare correttamente delle orbite periodiche (Si dimostra che se $\\omega$ è la pulsazione del moto del corpo allora prendendo $\\Delta t<2/\\omega$ l'orbita approssimata è stabile).\n",
    "Le equazioni che descrivono il moto divengono quindi:\n",
    "\n",
    "\\begin{equation}\n",
    " \\vec{r}(t+\\Delta t)=\\vec{r}(t)+\\vec{v}(t+\\Delta t/2)\\Delta t \n",
    "\\end{equation}\n",
    "\\begin{equation}\n",
    " \\vec{v}(t+\\Delta t)=\\vec{v}(t-\\Delta t/2)+\\vec{a}(t)\\Delta t\n",
    "\\end{equation}\n",
    "a cui dobbiamo aggiungere la definizione dell'accelerazione:\n",
    "\n",
    "\\begin{equation}\n",
    " \\vec{a}(t)=-G\\frac{m}{r^2}\\hat{r}\n",
    "\\end{equation}\n",
    "Nel nostro sistema iniziale a due corpi per ogni intervallo temporale di ampiezza $\\Delta t$ dovremo quindi calcolare.\\\\\n",
    "\n",
    "**Per il primo corpo**:\n",
    "\n",
    "\\begin{align}\\label{eq:ev1}\n",
    "  \\vec{r}_1(t+\\Delta t)&=\\vec{r}_1(t)+\\vec{v}_1(t+\\Delta t/2)\\Delta t \\\\\n",
    "  \\vec{v}_1(t+\\Delta t)&=\\vec{v}_1(t-\\Delta t/2)+\\vec{a}_1(t)\\Delta t \\\\\n",
    "  \\vec{a}_1(t)&=-G\\frac{m_2}{r_{12}^2}\\hat{r}_{12}\n",
    "\\end{align}\n",
    "\n",
    "**Per il secondo corpo**:\n",
    "\\begin{align}\\label{eq:ev2}\n",
    "  \\vec{r}_2(t+\\Delta t)&=\\vec{r}_2(t)+\\vec{v}_2(t+\\Delta t/2)\\Delta t \\\\\n",
    "  \\vec{v}_2(t+\\Delta t)&=\\vec{v}_2(t-\\Delta t/2)+\\vec{a}_2(t)\\Delta t \\\\\n",
    "  \\vec{a}_2(t)&=-G\\frac{m_1}{r_{21}^2}\\hat{r}_{21}\n",
    "\\end{align}\n",
    "\n",
    "In linea di principio tutto sembra molto semplice, se però vogliamo rappresentare graficamente l'evoluzione del sistema dei due corpi, ad esempio utilizzando lo schermo di un computer, dobbiamo esplicitare le componenti cartesiane di tutte le grandezze vettoriali coinvolte nelle relazioni [\\ref{eq:ev1}] e [\\ref{eq:ev2}]. Molto probabilmente la rappresentazione in componenti delle posizioni e delle velocità vi sembrerà ovvia forse meno ovvia sarà però quella della accelerazione $\\vec{a}$. Per capire come riscrivere l'accelerazione esplicitando le componenti ricordiamo che la forza di gravità si può esprimere come:\n",
    "\\begin{equation}\n",
    " \\vec{F}_{1}=-G\\frac{m_1m_2}{r^3}\\vec{r}_{12}\n",
    "\\end{equation}\n",
    "\n",
    "<div style=\"width: 700px;\"> <img src=\"files/forza_12.png\"/>  </div>\n"
   ]
  },
  {
   "cell_type": "markdown",
   "id": "83bd2a81-b9ca-4b7e-aff3-c0a15ad0cd8a",
   "metadata": {},
   "source": [
    "\n",
    "dove con $\\vec{r}$ abbiamo indicato  un vettore che ha origine nel centro della massa $1$ e fine nel centro della massa $2$ e con $\\vec{F}_1$ la forza agente sulla massa $1$. Se come detto sopra indichiamo con $r_1$ il vettore posizione della massa $1$ e con $\\vec{r}_2$ il vettore posizione della massa $2$, facendo riferimento al disegno [\\ref{fig:forze_12}] possiamo scrivere:\n",
    "\\begin{equation}\n",
    " \\vec{r}_{12}=\\vec{r}_1-\\vec{r}_2\n",
    "\\end{equation}\n",
    "o in componenti\n",
    "\n",
    "\\begin{equation}\n",
    " \\vec{r}_{12}=(x_1-x_2,y_1-y_2)\n",
    "\\end{equation}\n",
    "\n",
    "Il modulo del vettore $\\vec{r}_{12}$ risulta:\n",
    "\\begin{equation}\n",
    " r_{12}=\\sqrt{(x_1-x_2)^2+(y_1-y_2)^2}\n",
    "\\end{equation}\n",
    "tutto questo ci permette di riscrivere l'accelerazione esplicitando le componenti cartesiane. L'accelerazione della massa $1$ risulta quindi:\n",
    "\\begin{equation}\n",
    " \\vec{a}_1=-G\\frac{m_2}{(\\sqrt{(x_1-x_2)^2+(y_1-y_2)^2})^3}(x_1-x_2,y_1-y_2)\n",
    "\\end{equation}\n",
    "\n",
    "Svolgere un calcolo di questo tipo a mano sarebbe estremamente noioso e prono ad errori, la cosa migliore è affidarlo ad un computer, sarà necessario scrivere un piccolo programma che svolga nella maniera più rapida possibile i calcoli. Come linguaggio di programmazione useremo Python, dato che è il linguaggio scelto dalla nostra scuola per il corso di Scienze Applicate."
   ]
  },
  {
   "cell_type": "markdown",
   "id": "71d43a92-0fd2-484a-9bf6-015354d3e334",
   "metadata": {},
   "source": [
    "## La libreria grafica\n",
    "\n",
    "La prima attività consisterà nel caricamento della libreria grafica che ci permetterà di visualizzare il calcolo. Nel nostro esempio faremo ricorso a Vpython. Se nel vostro computer casalingo non fosse presente, sarà sufficiente installarla tramite il comando\n",
    "\n",
    "pip install vpython"
   ]
  },
  {
   "cell_type": "code",
   "execution_count": 1,
   "id": "c645ba73-b43e-49e6-8b3a-64d0846cfd4b",
   "metadata": {},
   "outputs": [
    {
     "data": {
      "text/html": [
       "<div id=\"glowscript\" class=\"glowscript\"></div>"
      ],
      "text/plain": [
       "<IPython.core.display.HTML object>"
      ]
     },
     "metadata": {},
     "output_type": "display_data"
    },
    {
     "data": {
      "application/javascript": [
       "if (typeof Jupyter !== \"undefined\") { window.__context = { glowscript_container: $(\"#glowscript\").removeAttr(\"id\")};}else{ element.textContent = ' ';}"
      ],
      "text/plain": [
       "<IPython.core.display.Javascript object>"
      ]
     },
     "metadata": {},
     "output_type": "display_data"
    }
   ],
   "source": [
    "from vpython import *\n",
    "import random\n",
    "import itertools\n",
    "import csv\n"
   ]
  },
  {
   "cell_type": "code",
   "execution_count": 2,
   "id": "7c41793c-1162-4aed-9499-5edaddd23fd7",
   "metadata": {},
   "outputs": [
    {
     "data": {
      "text/html": [
       "<div id=\"glowscript\" class=\"glowscript\"></div>"
      ],
      "text/plain": [
       "<IPython.core.display.HTML object>"
      ]
     },
     "metadata": {},
     "output_type": "display_data"
    },
    {
     "data": {
      "application/javascript": [
       "if (typeof Jupyter !== \"undefined\") { window.__context = { glowscript_container: $(\"#glowscript\").removeAttr(\"id\")};}else{ element.textContent = ' ';}"
      ],
      "text/plain": [
       "<IPython.core.display.Javascript object>"
      ]
     },
     "metadata": {},
     "output_type": "display_data"
    }
   ],
   "source": [
    "scene = canvas(title='Tre corpi',x=0, y=0, width=1500, height=1500,center=vector(0,0,0))\n",
    "vss = scene"
   ]
  },
  {
   "cell_type": "markdown",
   "id": "eef2d371-6310-4f5d-ab72-4691d7b3d0c9",
   "metadata": {},
   "source": [
    "definiamo poi la funzione che costruisce un corpo, assegnandogli una posizione casuale iniziale entro un intervallo di valori, una massa, un raggio, un colore ed una velocità iniziale"
   ]
  },
  {
   "cell_type": "code",
   "execution_count": 3,
   "id": "10125a16-85cf-4469-a2cc-5f54a69d6b8a",
   "metadata": {},
   "outputs": [],
   "source": [
    "# pos è una tupla di valori che definisce la posizione\n",
    "# mas un valore reale >0\n",
    "# color è un colore \n",
    "# velocity è una tupla che definisce la velocità iniziale\n",
    "def create_body(pos,mass,radius,color,velocity):\n",
    "    body = sphere()\n",
    "    body.pos = vector(pos[0],pos[1],pos[2])\n",
    "    body.radius =radius\n",
    "    body.color = color\n",
    "    body.mass = mass\n",
    "    body.v = vector(velocity[0], velocity[1],velocity[2])\n",
    "    return body\n",
    "    \n",
    "def get_random_position(x,y,z):\n",
    "    return(random.uniform(x[0],x[1]),random.uniform(y[0],y[1]),random.uniform(z[0],z[1]))\n",
    "\n",
    "def get_random_velocity(x,y,z):\n",
    "    return(random.uniform(x[0],x[1]),random.uniform(y[0],y[1]),random.uniform(z[0],z[1]))\n",
    "    "
   ]
  },
  {
   "cell_type": "code",
   "execution_count": 4,
   "id": "ed0e000b-8665-4768-ae70-22492fe291d4",
   "metadata": {},
   "outputs": [
    {
     "data": {
      "application/javascript": [
       "if (typeof Jupyter !== \"undefined\") {require.undef(\"nbextensions/vpython_libraries/glow.min\");}else{element.textContent = ' ';}"
      ],
      "text/plain": [
       "<IPython.core.display.Javascript object>"
      ]
     },
     "metadata": {},
     "output_type": "display_data"
    },
    {
     "data": {
      "application/javascript": [
       "if (typeof Jupyter !== \"undefined\") {require.undef(\"nbextensions/vpython_libraries/glowcomm\");}else{element.textContent = ' ';}"
      ],
      "text/plain": [
       "<IPython.core.display.Javascript object>"
      ]
     },
     "metadata": {},
     "output_type": "display_data"
    },
    {
     "data": {
      "application/javascript": [
       "if (typeof Jupyter !== \"undefined\") {require.undef(\"nbextensions/vpython_libraries/jquery-ui.custom.min\");}else{element.textContent = ' ';}"
      ],
      "text/plain": [
       "<IPython.core.display.Javascript object>"
      ]
     },
     "metadata": {},
     "output_type": "display_data"
    },
    {
     "data": {
      "application/javascript": [
       "if (typeof Jupyter !== \"undefined\") {require([\"nbextensions/vpython_libraries/glow.min\"], function(){console.log(\"GLOW LOADED\");});}else{element.textContent = ' ';}"
      ],
      "text/plain": [
       "<IPython.core.display.Javascript object>"
      ]
     },
     "metadata": {},
     "output_type": "display_data"
    },
    {
     "data": {
      "application/javascript": [
       "if (typeof Jupyter !== \"undefined\") {require([\"nbextensions/vpython_libraries/glowcomm\"], function(){console.log(\"GLOWCOMM LOADED\");});}else{element.textContent = ' ';}"
      ],
      "text/plain": [
       "<IPython.core.display.Javascript object>"
      ]
     },
     "metadata": {},
     "output_type": "display_data"
    },
    {
     "data": {
      "application/javascript": [
       "if (typeof Jupyter !== \"undefined\") {require([\"nbextensions/vpython_libraries/jquery-ui.custom.min\"], function(){console.log(\"JQUERY LOADED\");});}else{element.textContent = ' ';}"
      ],
      "text/plain": [
       "<IPython.core.display.Javascript object>"
      ]
     },
     "metadata": {},
     "output_type": "display_data"
    }
   ],
   "source": [
    "#proviamo le funzioni appena definite\n",
    "\n",
    "new_position=get_random_position((-1,1),(0,2),(-2,2))\n",
    "new_position\n",
    "new_velocity=get_random_velocity((0,1),(0.1,0.2),(-5,5))\n",
    "new_velocity\n",
    "new_body=create_body(new_position,10.0,0.4,color.blue,new_velocity)\n",
    "# quando eseguirete l'ultimo comando vedrete comparire nella scena una sfera blu\n"
   ]
  },
  {
   "cell_type": "markdown",
   "id": "3161ab6f-3a82-4605-933a-a1b1b1833719",
   "metadata": {},
   "source": [
    "scriviamo ora una funzione che crea tre corpi disposti casualmente nello spazio, con raggi casuali e masse casuali"
   ]
  },
  {
   "cell_type": "code",
   "execution_count": 5,
   "id": "70bd181a-4597-4f40-86c7-34b6ad347815",
   "metadata": {},
   "outputs": [],
   "source": [
    "def generate_bodies(n,stars):\n",
    "    for i in range(n):\n",
    "      new_position=get_random_position((-1,1),(0,2),(-2,2))\n",
    "      new_velocity=get_random_velocity((0,1),(0.1,0.2),(-5,5))\n",
    "      stars.append(create_body(new_position,10.0,0.4,color.blue,new_velocity))\n",
    "    \n",
    "def read_test_data(data,stars):\n",
    "    for obj in data:\n",
    "        mass=float(obj[0])\n",
    "        position=[float(obj[1]),float(obj[2]),float(obj[3])]\n",
    "        velocity=[float(obj[4]),float(obj[5]),float(obj[6])]\n",
    "        radius=float(obj[7])\n",
    "        stars.append(create_body(position,mass,radius,color.yellow,velocity))\n",
    "        "
   ]
  },
  {
   "cell_type": "code",
   "execution_count": 6,
   "id": "3bb8cbc2-fe62-468d-b9d1-976bdb0a8824",
   "metadata": {},
   "outputs": [],
   "source": [
    "file = open('files/test_data_32.csv')\n",
    "csvreader = csv.reader(file)\n",
    "header=next(csvreader)\n",
    "test_data=[]\n",
    "for h_object in csvreader:\n",
    "    test_data.append(h_object)"
   ]
  },
  {
   "cell_type": "code",
   "execution_count": 7,
   "id": "aca28289-d1af-496f-abe3-4557d04f81de",
   "metadata": {},
   "outputs": [
    {
     "name": "stdout",
     "output_type": "stream",
     "text": [
      "[['10.0', '0.0', '0.0', '0.0', '0.0', '0.0', '0.0', '0.075'], ['10.0', '4.0', '0.0', '0.0', '0.0', '2.9', '0.0', '0.04'], ['10.0', '5.0', '0.0', '0.0', '0.0', '1.1', '0.5', '0.04']]\n"
     ]
    }
   ],
   "source": [
    "print(test_data)"
   ]
  },
  {
   "cell_type": "code",
   "execution_count": 8,
   "id": "519b11e6-fc63-4900-82e6-4fdaf4094bab",
   "metadata": {},
   "outputs": [],
   "source": [
    "\n",
    "three_stars=[]\n",
    "#generate_bodies(3,three_stars)\n",
    "read_test_data(test_data,three_stars)"
   ]
  },
  {
   "cell_type": "code",
   "execution_count": 9,
   "id": "3779af6e-2c93-4f98-959a-a3f5948f99f0",
   "metadata": {},
   "outputs": [],
   "source": [
    "three_stars[0].color=color.green"
   ]
  },
  {
   "cell_type": "markdown",
   "id": "37ab5ed3-85a8-4e3e-a88e-d6f140d336b2",
   "metadata": {},
   "source": [
    "## Funzione per il calcolo del centro di massa e della velocità del centro di massa\n",
    "\n",
    "Costruiti i corpi della nostra simulazione, andremo a definire il sistema di riferimento rispetto al quale vogliamo effettuare il calcolo. Come detto in precedenza, dovremo quindi determinare la posizione del centro di massa e la velocità del centro di massa\n"
   ]
  },
  {
   "cell_type": "code",
   "execution_count": 10,
   "id": "6f8b9934-4545-43d3-849e-496e45a2e7cd",
   "metadata": {},
   "outputs": [],
   "source": [
    "def get_cm_position(stars):\n",
    "    cm=vector(0.0,0.0,0.0)\n",
    "    total_mass=0.0\n",
    "    for star in stars:\n",
    "        cm+=star.mass*star.pos\n",
    "        total_mass+=star.mass\n",
    "    return cm/total_mass  \n",
    "#la funzione translate_to_cm riferisce tutti i corpi al sistema del centro di massa\n",
    "def translate_to_cm(stars,center_of_mass):\n",
    "    for star in stars:\n",
    "        star.pos=star.pos-center_of_mass\n",
    "def get_cm_velocity(stars):\n",
    "    vcm=vector(0.0,0.0,0.0)\n",
    "    total_mass=0.0\n",
    "    for star in stars:\n",
    "        vcm+=star.mass*star.v\n",
    "        total_mass+=star.mass\n",
    "    return vcm/total_mass\n",
    "def do_galileo_transform(stars,vcm):\n",
    "    for star in stars:\n",
    "        star.v=star.v-vcm"
   ]
  },
  {
   "cell_type": "code",
   "execution_count": 11,
   "id": "74cb72db-89b1-451f-9ca8-1667278609b0",
   "metadata": {},
   "outputs": [
    {
     "name": "stdout",
     "output_type": "stream",
     "text": [
      "Old cm position\n",
      "<3, 0, 0>\n",
      "New cm position\n",
      "<0, 0, 0>\n",
      "Old cm velocity\n",
      "<0, 1.33333, 0.166667>\n",
      "New cm velocity\n",
      "<0, 7.40149e-17, 2.96059e-17>\n"
     ]
    }
   ],
   "source": [
    "#proviamo le funzioni appena definite\n",
    "print(\"Old cm position\")\n",
    "current_cm=get_cm_position(three_stars)\n",
    "print(current_cm)\n",
    "print(\"New cm position\")\n",
    "translate_to_cm(three_stars,current_cm)\n",
    "print(get_cm_position(three_stars))\n",
    "print(\"Old cm velocity\")\n",
    "current_vcm=get_cm_velocity(three_stars)\n",
    "print(current_vcm)\n",
    "do_galileo_transform(three_stars,current_vcm)\n",
    "print(\"New cm velocity\")\n",
    "print(get_cm_velocity(three_stars))\n"
   ]
  },
  {
   "cell_type": "code",
   "execution_count": 12,
   "id": "1c3a3b67-5212-4d79-a41c-c074e22eff57",
   "metadata": {},
   "outputs": [],
   "source": [
    "#costruiamo la rappresentazione dell'orbita dei nostri tre corpi\n",
    "\n",
    "for star in three_stars:\n",
    "  star.orbit = curve(color=star.color, radius = 0.008)"
   ]
  },
  {
   "cell_type": "code",
   "execution_count": 13,
   "id": "cb63855c-24c7-4a88-af9e-b35ac444c115",
   "metadata": {},
   "outputs": [],
   "source": [
    "#definisco alcune costanti per la simulazione, il passo temporale della simulazione e la costante di gravitazione universale ed inizializzo la quantità di moto delle stelle\n",
    "dt=0.001\n",
    "G=1.0\n",
    "\n",
    "for i in  range(len(three_stars)):\n",
    "    three_stars[i].p=three_stars[i].mass*three_stars[i].v"
   ]
  },
  {
   "cell_type": "code",
   "execution_count": 14,
   "id": "f46f6013-063a-467e-accf-d1c57dd01a9e",
   "metadata": {},
   "outputs": [],
   "source": [
    "## Funzione per il calcolo dell'interazione a coppie"
   ]
  },
  {
   "cell_type": "code",
   "execution_count": 15,
   "id": "e5147b4d-7c79-498f-9df7-21890bfdb87e",
   "metadata": {},
   "outputs": [],
   "source": [
    "def pstep( star1, star2,delta_t):\n",
    "  ## calcolo delle nuove quantità di moto per la determinazione delle nuove\n",
    "  # posizioni (metodo leapfrog)\n",
    "  rvector = star1.pos-star2.pos\n",
    "  force_vector = -G * star1.mass * star2.mass * rvector / mag(rvector)**3\n",
    "  star1.p = star1.p + force_vector*delta_t\n",
    "  star2.p = star2.p - force_vector*delta_t"
   ]
  },
  {
   "cell_type": "code",
   "execution_count": 16,
   "id": "dceb33fd-7b2a-4dd1-b79f-1f9d2c2f8a24",
   "metadata": {},
   "outputs": [],
   "source": [
    "#inizializzo il calcolo\n",
    "for pair in itertools.combinations(three_stars,2):\n",
    "    pstep(pair[0],pair[1],0.5*dt)"
   ]
  },
  {
   "cell_type": "code",
   "execution_count": null,
   "id": "ebb2720a-ff35-4b7f-8132-b713e213f8a3",
   "metadata": {},
   "outputs": [],
   "source": [
    "time=0\n",
    "\n",
    "\n",
    "\n",
    "while time<5:\n",
    "  rate(50)\n",
    "  time+=dt\n",
    "  for pair in itertools.combinations(three_stars,2):\n",
    "    pstep(pair[0],pair[1],dt)\n",
    "  for star in three_stars:\n",
    "    star.pos = star.pos + star.p/star.mass * dt\n",
    "    #scene.center=body.pos\n",
    "    star.orbit.append(pos=star.pos)"
   ]
  },
  {
   "cell_type": "code",
   "execution_count": null,
   "id": "f1f33330-c442-4f52-be5d-7b9c2cbd609c",
   "metadata": {},
   "outputs": [],
   "source": []
  }
 ],
 "metadata": {
  "kernelspec": {
   "display_name": "Python 3 (ipykernel)",
   "language": "python",
   "name": "python3"
  },
  "language_info": {
   "codemirror_mode": {
    "name": "ipython",
    "version": 3
   },
   "file_extension": ".py",
   "mimetype": "text/x-python",
   "name": "python",
   "nbconvert_exporter": "python",
   "pygments_lexer": "ipython3",
   "version": "3.10.4"
  }
 },
 "nbformat": 4,
 "nbformat_minor": 5
}
