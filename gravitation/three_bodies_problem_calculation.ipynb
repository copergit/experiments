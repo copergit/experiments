{
 "cells": [
  {
   "cell_type": "code",
   "execution_count": 1,
   "id": "c645ba73-b43e-49e6-8b3a-64d0846cfd4b",
   "metadata": {},
   "outputs": [
    {
     "data": {
      "text/html": [
       "<div id=\"glowscript\" class=\"glowscript\"></div>"
      ],
      "text/plain": [
       "<IPython.core.display.HTML object>"
      ]
     },
     "metadata": {},
     "output_type": "display_data"
    },
    {
     "data": {
      "application/javascript": [
       "if (typeof Jupyter !== \"undefined\") { window.__context = { glowscript_container: $(\"#glowscript\").removeAttr(\"id\")};}else{ element.textContent = ' ';}"
      ],
      "text/plain": [
       "<IPython.core.display.Javascript object>"
      ]
     },
     "metadata": {},
     "output_type": "display_data"
    }
   ],
   "source": [
    "from vpython import *\n",
    "import random\n",
    "import itertools\n",
    "import csv\n"
   ]
  },
  {
   "cell_type": "code",
   "execution_count": 2,
   "id": "a471c8b4-2ef7-476c-8792-87a7cc533e6a",
   "metadata": {},
   "outputs": [
    {
     "data": {
      "text/html": [
       "<div id=\"glowscript\" class=\"glowscript\"></div>"
      ],
      "text/plain": [
       "<IPython.core.display.HTML object>"
      ]
     },
     "metadata": {},
     "output_type": "display_data"
    },
    {
     "data": {
      "application/javascript": [
       "if (typeof Jupyter !== \"undefined\") { window.__context = { glowscript_container: $(\"#glowscript\").removeAttr(\"id\")};}else{ element.textContent = ' ';}"
      ],
      "text/plain": [
       "<IPython.core.display.Javascript object>"
      ]
     },
     "metadata": {},
     "output_type": "display_data"
    }
   ],
   "source": [
    "scene = canvas(title='Tre corpi',x=0, y=0, width=1500, height=1500,center=vector(0,0,0))\n",
    "vss = scene"
   ]
  },
  {
   "cell_type": "code",
   "execution_count": 3,
   "id": "10125a16-85cf-4469-a2cc-5f54a69d6b8a",
   "metadata": {},
   "outputs": [
    {
     "data": {
      "application/javascript": [
       "if (typeof Jupyter !== \"undefined\") {require.undef(\"nbextensions/vpython_libraries/glow.min\");}else{element.textContent = ' ';}"
      ],
      "text/plain": [
       "<IPython.core.display.Javascript object>"
      ]
     },
     "metadata": {},
     "output_type": "display_data"
    },
    {
     "data": {
      "application/javascript": [
       "if (typeof Jupyter !== \"undefined\") {require.undef(\"nbextensions/vpython_libraries/glowcomm\");}else{element.textContent = ' ';}"
      ],
      "text/plain": [
       "<IPython.core.display.Javascript object>"
      ]
     },
     "metadata": {},
     "output_type": "display_data"
    },
    {
     "data": {
      "application/javascript": [
       "if (typeof Jupyter !== \"undefined\") {require.undef(\"nbextensions/vpython_libraries/jquery-ui.custom.min\");}else{element.textContent = ' ';}"
      ],
      "text/plain": [
       "<IPython.core.display.Javascript object>"
      ]
     },
     "metadata": {},
     "output_type": "display_data"
    },
    {
     "data": {
      "application/javascript": [
       "if (typeof Jupyter !== \"undefined\") {require([\"nbextensions/vpython_libraries/glow.min\"], function(){console.log(\"GLOW LOADED\");});}else{element.textContent = ' ';}"
      ],
      "text/plain": [
       "<IPython.core.display.Javascript object>"
      ]
     },
     "metadata": {},
     "output_type": "display_data"
    },
    {
     "data": {
      "application/javascript": [
       "if (typeof Jupyter !== \"undefined\") {require([\"nbextensions/vpython_libraries/glowcomm\"], function(){console.log(\"GLOWCOMM LOADED\");});}else{element.textContent = ' ';}"
      ],
      "text/plain": [
       "<IPython.core.display.Javascript object>"
      ]
     },
     "metadata": {},
     "output_type": "display_data"
    },
    {
     "data": {
      "application/javascript": [
       "if (typeof Jupyter !== \"undefined\") {require([\"nbextensions/vpython_libraries/jquery-ui.custom.min\"], function(){console.log(\"JQUERY LOADED\");});}else{element.textContent = ' ';}"
      ],
      "text/plain": [
       "<IPython.core.display.Javascript object>"
      ]
     },
     "metadata": {},
     "output_type": "display_data"
    },
    {
     "name": "stdout",
     "output_type": "stream",
     "text": [
      "Old cm position\n",
      "<6.66644e-06, 1.66661e-05, 0>\n",
      "New cm position\n",
      "<3.62665e-17, -1.8476e-18, 0>\n",
      "Old cm velocity\n",
      "<-6.66644e-06, -1.66661e-05, 0>\n",
      "New cm velocity\n",
      "<-1.7393e-17, -2.4981e-17, 0>\n"
     ]
    }
   ],
   "source": [
    "# pos è una tupla di valori che definisce la posizione\n",
    "# mas un valore reale >0\n",
    "# color è un colore \n",
    "# velocity è una tupla che definisce la velocità iniziale\n",
    "def create_body(pos,mass,radius,color,velocity,trail):\n",
    "    body = sphere()\n",
    "    body.pos = vector(pos[0],pos[1],pos[2])\n",
    "    body.radius =radius\n",
    "    body.color = color\n",
    "    body.mass = mass\n",
    "    body.v = vector(velocity[0], velocity[1],velocity[2])\n",
    "    body.p=body.v*body.mass\n",
    "    body.trail=trail\n",
    "    return body\n",
    "    \n",
    "def get_random_position(x,y,z):\n",
    "    return(random.uniform(x[0],x[1]),random.uniform(y[0],y[1]),random.uniform(z[0],z[1]))\n",
    "\n",
    "def get_random_velocity(x,y,z):\n",
    "    return(random.uniform(x[0],x[1]),random.uniform(y[0],y[1]),random.uniform(z[0],z[1]))\n",
    "def generate_bodies(n,stars):\n",
    "    for i in range(n):\n",
    "      new_position=get_random_position((-1,1),(0,2),(-2,2))\n",
    "      new_velocity=get_random_velocity((0,1),(0.1,0.2),(-5,5))\n",
    "      stars.append(create_body(new_position,10.0,0.4,color.blue,new_velocity))\n",
    "    \n",
    "def read_test_data(data,stars):\n",
    "    for obj in data:\n",
    "        mass=float(obj[0])\n",
    "        position=[float(obj[1]),float(obj[2]),float(obj[3])]\n",
    "        velocity=[float(obj[4]),float(obj[5]),float(obj[6])]\n",
    "        radius=float(obj[7])\n",
    "        trail=obj[8]\n",
    "        c=obj[9].split(';')\n",
    "        obj_color=vector(float(c[0]),float(c[1]),float(c[2]))\n",
    "        stars.append(create_body(position,mass,radius,obj_color,velocity,trail))\n",
    "file = open('files/test_data_5.csv')\n",
    "csvreader = csv.reader(file)\n",
    "header=next(csvreader)\n",
    "test_data=[]\n",
    "for h_object in csvreader:\n",
    "    test_data.append(h_object)\n",
    "\n",
    "three_stars=[]\n",
    "#generate_bodies(3,three_stars)\n",
    "read_test_data(test_data,three_stars)\n",
    "def get_cm_position(stars):\n",
    "    cm=vector(0.0,0.0,0.0)\n",
    "    total_mass=0.0\n",
    "    for star in stars:\n",
    "        cm+=star.mass*star.pos\n",
    "        total_mass+=star.mass\n",
    "    return cm/total_mass  \n",
    "#la funzione translate_to_cm riferisce tutti i corpi al sistema del centro di massa\n",
    "def translate_to_cm(stars,center_of_mass):\n",
    "    for star in stars:\n",
    "        star.pos=star.pos-center_of_mass\n",
    "def get_cm_velocity(stars):\n",
    "    vcm=vector(0.0,0.0,0.0)\n",
    "    total_mass=0.0\n",
    "    for star in stars:\n",
    "        vcm+=star.mass*star.v\n",
    "        total_mass+=star.mass\n",
    "    return vcm/total_mass\n",
    "def do_galileo_transform(stars,vcm):\n",
    "    for star in stars:\n",
    "        star.v=star.v-vcm\n",
    "\n",
    "#proviamo le funzioni appena definite\n",
    "print(\"Old cm position\")\n",
    "current_cm=get_cm_position(three_stars)\n",
    "print(current_cm)\n",
    "print(\"New cm position\")\n",
    "translate_to_cm(three_stars,current_cm)\n",
    "print(get_cm_position(three_stars))\n",
    "print(\"Old cm velocity\")\n",
    "current_vcm=get_cm_velocity(three_stars)\n",
    "print(current_vcm)\n",
    "do_galileo_transform(three_stars,current_vcm)\n",
    "print(\"New cm velocity\")\n",
    "print(get_cm_velocity(three_stars))\n",
    "\n",
    "#definisco alcune costanti per la simulazione, il passo temporale della simulazione e la costante di gravitazione universale\n",
    "dt=0.001\n",
    "G=1.0\n",
    "\n",
    "star1=three_stars[0]\n",
    "star2=three_stars[1]\n",
    "\n",
    "#il vettore r_ij tra stella due e stella1\n",
    "rvector = star1.pos-star2.pos\n",
    "force_vector = -G * star1.mass * star2.mass * rvector / mag(rvector)**3\n",
    "#costruiamo la rappresentazione dell'orbita dei nostri tre corpi\n",
    "\n",
    "for star in three_stars:\n",
    "  if (star.trail==\"1\"):\n",
    "    star.orbit = curve(color=star.color, radius = 0.008)\n",
    "#Inizializziamo le quantità di moto delle stelle\n",
    "\n",
    "for i in  range(len(three_stars)):\n",
    "    three_stars[i].p=three_stars[i].mass*three_stars[i].v\n",
    "def pstep( star1, star2,delta_t):\n",
    "  ## calcolo delle nuove quantità di moto per la determinazione delle nuove\n",
    "  # posizioni (metodo leapfrog)\n",
    "  rvector = star1.pos-star2.pos\n",
    "  force_vector = -G * star1.mass * star2.mass * rvector / mag(rvector)**3\n",
    "  star1.p = star1.p + force_vector*delta_t\n",
    "  star2.p = star2.p - force_vector*delta_t\n",
    "    \n",
    "#inizializzo il calcolo\n",
    "for pair in itertools.combinations(three_stars,2):\n",
    "    pstep(pair[0],pair[1],0.5*dt)\n",
    "\n",
    "#istante iniziale della simlazione    \n",
    "time=0"
   ]
  },
  {
   "cell_type": "code",
   "execution_count": null,
   "id": "ebb2720a-ff35-4b7f-8132-b713e213f8a3",
   "metadata": {},
   "outputs": [],
   "source": [
    "#eseguo il calcolo per 5 unità di tempo arbitrarie\n",
    "\n",
    "while time<35:\n",
    "  rate(50)\n",
    "  time+=dt\n",
    "  for pair in itertools.combinations(three_stars,2):\n",
    "    pstep(pair[0],pair[1],dt)\n",
    "  for star in three_stars:\n",
    "    star.pos = star.pos + star.p/star.mass * dt\n",
    "    #scene.center=body.pos\n",
    "    if (star.trail==\"1\"):\n",
    "        star.orbit.append(pos=star.pos)"
   ]
  },
  {
   "cell_type": "code",
   "execution_count": null,
   "id": "f81028ce-e89b-4b49-a0c7-206c299db921",
   "metadata": {},
   "outputs": [],
   "source": []
  },
  {
   "cell_type": "code",
   "execution_count": null,
   "id": "9c819eb4-edbd-4ee3-83d5-cd3cb4c98574",
   "metadata": {},
   "outputs": [],
   "source": []
  }
 ],
 "metadata": {
  "kernelspec": {
   "display_name": "Python 3 (ipykernel)",
   "language": "python",
   "name": "python3"
  },
  "language_info": {
   "codemirror_mode": {
    "name": "ipython",
    "version": 3
   },
   "file_extension": ".py",
   "mimetype": "text/x-python",
   "name": "python",
   "nbconvert_exporter": "python",
   "pygments_lexer": "ipython3",
   "version": "3.11.6"
  }
 },
 "nbformat": 4,
 "nbformat_minor": 5
}
